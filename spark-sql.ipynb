{
 "cells": [
  {
   "cell_type": "markdown",
   "metadata": {},
   "source": [
    "# Social characteristics of the Marvel Universe\n",
    "\n",
    "Adapted from [https://vincentlauzon.com/2018/01/24/azure-databricks-spark-sql-data-frames/](https://vincentlauzon.com/2018/01/24/azure-databricks-spark-sql-data-frames/)"
   ]
  },
  {
   "cell_type": "markdown",
   "metadata": {},
   "source": [
    "Run the right cell depending on the platform being used.\n",
    "\n",
    "For AWS EMR use:"
   ]
  },
  {
   "cell_type": "code",
   "execution_count": 3,
   "metadata": {},
   "outputs": [],
   "source": [
    "file = sc.textFile(\"s3://bigdatateaching/marvel/porgat.txt\")"
   ]
  },
  {
   "cell_type": "markdown",
   "metadata": {},
   "source": [
    "For Databricks on Azure use:"
   ]
  },
  {
   "cell_type": "code",
   "execution_count": null,
   "metadata": {},
   "outputs": [],
   "source": [
    "file = sc.textFile(\"wasbs://marvel@bigdatateaching.blob.core.windows.net/porgat.txt\")"
   ]
  },
  {
   "cell_type": "markdown",
   "metadata": {},
   "source": [
    "## The Data\n",
    "\n",
    "The data file is in three parts, with the single file:\n",
    "\n",
    "* Marvel Characters\n",
    "* Publications\n",
    "* Relationships between the two\n",
    "\n",
    "We need to pre-process the file before we can use it. The following operations are all RDD operations."
   ]
  },
  {
   "cell_type": "code",
   "execution_count": 4,
   "metadata": {},
   "outputs": [],
   "source": [
    "#  Remove the headers from the file:  lines starting with a star\n",
    "noHeaders = file.filter(lambda x: len(x)>0 and x[0]!='*')\n",
    "\n",
    "#  Extract a pair from each line:  the leading integer and a string for the rest of the line\n",
    "paired = noHeaders.map(lambda l:  l.partition(' ')).filter(lambda t:  len(t)==3 and len(t[0])>0 and len(t[2])>0).map(lambda t: (int(t[0]), t[2]))\n",
    "\n",
    "#  Filter relationships as they do not start with quotes, then split the integer list\n",
    "scatteredRelationships = paired.filter(lambda (charId, text):  text[0]!='\"').map(lambda (charId, text): (charId, [int(x) for x in text.split(' ')]))\n",
    "\n",
    "#  Relationships for the same character id sometime spans more than a line in the file, so let's group them together\n",
    "relationships = scatteredRelationships.reduceByKey(lambda pubList1, pubList2: pubList1 + pubList2)\n",
    "\n",
    "#  Filter non-relationships as they start with quotes ; remove the quotes\n",
    "nonRelationships = paired.filter(lambda (index, text):  text[0]=='\"').map(lambda (index, text):  (index, text[1:-1].strip()))\n",
    "\n",
    "#  Characters stop at a certain line (part of the initial header ; we hardcode it here)\n",
    "characters = nonRelationships.filter(lambda (charId, name): charId<=6486)\n",
    "\n",
    "#  Publications starts after the characters\n",
    "publications = nonRelationships.filter(lambda (charId, name): charId>6486)"
   ]
  },
  {
   "cell_type": "code",
   "execution_count": 12,
   "metadata": {},
   "outputs": [
    {
     "data": {
      "text/plain": [
       "[u'1 \"24-HOUR MAN/EMMANUEL\"',\n",
       " u'2 \"3-D MAN/CHARLES CHAN\"',\n",
       " u'3 \"4-D MAN/MERCURIO\"',\n",
       " u'4 \"8-BALL/\"',\n",
       " u'5 \"A\"']"
      ]
     },
     "execution_count": 12,
     "metadata": {},
     "output_type": "execute_result"
    }
   ],
   "source": [
    "noHeaders.take(5)"
   ]
  },
  {
   "cell_type": "markdown",
   "metadata": {},
   "source": [
    "The following cells begin to use SparkSQL.\n",
    "\n",
    "Spark SQL works with Data Frames which are a kind of “structured” RDD or an “RDD with schema”.\n",
    "\n",
    "The integration between the two works by creating a RDD of Row (a type from pyspark.sql) and then creating a Data Frame from it.\n",
    "\n",
    "The Data Frames can then be registered as views.  It is those views we’ll query using Spark SQL."
   ]
  },
  {
   "cell_type": "code",
   "execution_count": 10,
   "metadata": {},
   "outputs": [],
   "source": [
    "from pyspark.sql import Row\n",
    "\n",
    "#  Let's create dataframes out of the RDDs and register them as temporary views for SQL to use\n",
    "\n",
    "#  Relationships has a list as a component, let's flat that\n",
    "flatRelationships = relationships.flatMap(lambda (charId, pubList):  [(charId, pubId) for pubId in pubList])\n",
    "\n",
    "#  Let's map the relationships to an RDD of rows in order to create a data frame out of it\n",
    "relationshipsDf = spark.createDataFrame(flatRelationships.map(lambda t: Row(charId=t[0], pubId=t[1])))\n",
    "\n",
    "#  Register relationships as a temporary view\n",
    "relationshipsDf.createOrReplaceTempView(\"relationships\")\n",
    "\n",
    "#  Let's do the same for characters\n",
    "charactersDf = spark.createDataFrame(characters.map(lambda t:  Row(charId=t[0], name=t[1])))\n",
    "charactersDf.createOrReplaceTempView(\"characters\")\n",
    "\n",
    "#  and for publications\n",
    "publicationsDf = spark.createDataFrame(publications.map(lambda t:  Row(pubId=t[0], name=t[1])))\n",
    "publicationsDf.createOrReplaceTempView(\"publications\")"
   ]
  },
  {
   "cell_type": "code",
   "execution_count": 11,
   "metadata": {},
   "outputs": [
    {
     "data": {
      "text/plain": [
       "[Row(charId=2, pubId=6488),\n",
       " Row(charId=2, pubId=6489),\n",
       " Row(charId=2, pubId=6490),\n",
       " Row(charId=2, pubId=6491),\n",
       " Row(charId=2, pubId=6492),\n",
       " Row(charId=2, pubId=6493),\n",
       " Row(charId=2, pubId=6494),\n",
       " Row(charId=2, pubId=6495),\n",
       " Row(charId=2, pubId=6496),\n",
       " Row(charId=4, pubId=6506)]"
      ]
     },
     "execution_count": 11,
     "metadata": {},
     "output_type": "execute_result"
    }
   ],
   "source": [
    "relationshipsDf.take(10)"
   ]
  },
  {
   "cell_type": "markdown",
   "metadata": {},
   "source": [
    "The following cell is the standard way of running a SQL query on Spark. "
   ]
  },
  {
   "cell_type": "code",
   "execution_count": 15,
   "metadata": {},
   "outputs": [],
   "source": [
    "df1 = spark.sql(\"\"\"SELECT c1.name AS name1, c2.name AS name2, sub.charId1, sub.charId2, sub.pubCount\n",
    "FROM\n",
    "(\n",
    "  SELECT r1.charId AS charId1, r2.charId AS charId2, COUNT(r1.pubId, r2.pubId) AS pubCount\n",
    "  FROM relationships AS r1\n",
    "  CROSS JOIN relationships AS r2\n",
    "  WHERE r1.charId < r2.charId\n",
    "  AND r1.pubId=r2.pubId\n",
    "  GROUP BY r1.charId, r2.charId\n",
    ") AS sub\n",
    "INNER JOIN characters c1 ON c1.charId=sub.charId1\n",
    "INNER JOIN characters c2 ON c2.charId=sub.charId2\n",
    "ORDER BY sub.pubCount DESC\n",
    "LIMIT 10\"\"\")\n"
   ]
  },
  {
   "cell_type": "code",
   "execution_count": 16,
   "metadata": {},
   "outputs": [
    {
     "data": {
      "text/plain": [
       "[Row(name1=u'HUMAN TORCH/JOHNNY S', name2=u'THING/BENJAMIN J. GR', charId1=2557, charId2=5716, pubCount=744),\n",
       " Row(name1=u'HUMAN TORCH/JOHNNY S', name2=u'MR. FANTASTIC/REED R', charId1=2557, charId2=3805, pubCount=713),\n",
       " Row(name1=u'MR. FANTASTIC/REED R', name2=u'THING/BENJAMIN J. GR', charId1=3805, charId2=5716, pubCount=708),\n",
       " Row(name1=u'INVISIBLE WOMAN/SUE', name2=u'MR. FANTASTIC/REED R', charId1=2650, charId2=3805, pubCount=701),\n",
       " Row(name1=u'HUMAN TORCH/JOHNNY S', name2=u'INVISIBLE WOMAN/SUE', charId1=2557, charId2=2650, pubCount=694),\n",
       " Row(name1=u'INVISIBLE WOMAN/SUE', name2=u'THING/BENJAMIN J. GR', charId1=2650, charId2=5716, pubCount=668),\n",
       " Row(name1=u'SPIDER-MAN/PETER PAR', name2=u'WATSON-PARKER, MARY', charId1=5306, charId2=6166, pubCount=616),\n",
       " Row(name1=u'JAMESON, J. JONAH', name2=u'SPIDER-MAN/PETER PAR', charId1=2959, charId2=5306, pubCount=526),\n",
       " Row(name1=u'CAPTAIN AMERICA', name2=u'IRON MAN/TONY STARK', charId1=859, charId2=2664, pubCount=446),\n",
       " Row(name1=u'SCARLET WITCH/WANDA', name2=u'VISION', charId1=4898, charId2=6066, pubCount=422)]"
      ]
     },
     "execution_count": 16,
     "metadata": {},
     "output_type": "execute_result"
    }
   ],
   "source": [
    "df1.take(10)"
   ]
  },
  {
   "cell_type": "markdown",
   "metadata": {},
   "source": [
    "The following cell runs the same query as above, **but this works only in the Azure Databricks notebooks using the [magic functions](https://docs.databricks.com/user-guide/notebooks/index.html)**"
   ]
  },
  {
   "cell_type": "code",
   "execution_count": 12,
   "metadata": {},
   "outputs": [
    {
     "ename": "SyntaxError",
     "evalue": "invalid syntax (<ipython-input-12-a54ca3fe8031>, line 3)",
     "output_type": "error",
     "traceback": [
      "\u001b[0;36m  File \u001b[0;32m\"<ipython-input-12-a54ca3fe8031>\"\u001b[0;36m, line \u001b[0;32m3\u001b[0m\n\u001b[0;31m    SELECT c1.name AS name1, c2.name AS name2, sub.charId1, sub.charId2, sub.pubCount\u001b[0m\n\u001b[0m            ^\u001b[0m\n\u001b[0;31mSyntaxError\u001b[0m\u001b[0;31m:\u001b[0m invalid syntax\n"
     ]
    }
   ],
   "source": [
    "%sql\n",
    "\n",
    "SELECT c1.name AS name1, c2.name AS name2, sub.charId1, sub.charId2, sub.pubCount\n",
    "FROM\n",
    "(\n",
    "  SELECT r1.charId AS charId1, r2.charId AS charId2, COUNT(r1.pubId, r2.pubId) AS pubCount\n",
    "  FROM relationships AS r1\n",
    "  CROSS JOIN relationships AS r2\n",
    "  WHERE r1.charId < r2.charId\n",
    "  AND r1.pubId=r2.pubId\n",
    "  GROUP BY r1.charId, r2.charId\n",
    ") AS sub\n",
    "INNER JOIN characters c1 ON c1.charId=sub.charId1\n",
    "INNER JOIN characters c2 ON c2.charId=sub.charId2\n",
    "ORDER BY sub.pubCount DESC\n",
    "LIMIT 10"
   ]
  },
  {
   "cell_type": "code",
   "execution_count": 18,
   "metadata": {},
   "outputs": [],
   "source": [
    "df2 = spark.sql(\"\"\"\n",
    "SELECT c1.name AS name1, c2.name AS name2, c3.name AS name3, sub.charId1, sub.charId2, sub.charId3, sub.pubCount\n",
    "FROM\n",
    "(\n",
    "  SELECT r1.charId AS charId1, r2.charId AS charId2, r3.charId AS charId3, COUNT(r1.pubId, r2.pubId, r3.pubId) AS pubCount\n",
    "  FROM relationships AS r1\n",
    "  CROSS JOIN relationships AS r2\n",
    "  CROSS JOIN relationships AS r3\n",
    "  WHERE r1.charId < r2.charId\n",
    "  AND r2.charId < r3.charId\n",
    "  AND r1.pubId=r2.pubId\n",
    "  AND r2.pubId=r3.pubId\n",
    "  GROUP BY r1.charId, r2.charId, r3.charId\n",
    ") AS sub\n",
    "INNER JOIN characters c1 ON c1.charId=sub.charId1\n",
    "INNER JOIN characters c2 ON c2.charId=sub.charId2\n",
    "INNER JOIN characters c3 ON c3.charId=sub.charId3\n",
    "ORDER BY sub.pubCount DESC\n",
    "LIMIT 10\n",
    "\"\"\")\n"
   ]
  },
  {
   "cell_type": "code",
   "execution_count": null,
   "metadata": {},
   "outputs": [],
   "source": [
    "df2.take(10)"
   ]
  },
  {
   "cell_type": "code",
   "execution_count": null,
   "metadata": {},
   "outputs": [],
   "source": [
    "%sql\n",
    "\n",
    "SELECT c1.name AS name1, c2.name AS name2, c3.name AS name3, sub.charId1, sub.charId2, sub.charId3, sub.pubCount\n",
    "FROM\n",
    "(\n",
    "  SELECT r1.charId AS charId1, r2.charId AS charId2, r3.charId AS charId3, COUNT(r1.pubId, r2.pubId, r3.pubId) AS pubCount\n",
    "  FROM relationships AS r1\n",
    "  CROSS JOIN relationships AS r2\n",
    "  CROSS JOIN relationships AS r3\n",
    "  WHERE r1.charId < r2.charId\n",
    "  AND r2.charId < r3.charId\n",
    "  AND r1.pubId=r2.pubId\n",
    "  AND r2.pubId=r3.pubId\n",
    "  GROUP BY r1.charId, r2.charId, r3.charId\n",
    ") AS sub\n",
    "INNER JOIN characters c1 ON c1.charId=sub.charId1\n",
    "INNER JOIN characters c2 ON c2.charId=sub.charId2\n",
    "INNER JOIN characters c3 ON c3.charId=sub.charId3\n",
    "ORDER BY sub.pubCount DESC\n",
    "LIMIT 10"
   ]
  }
 ],
 "metadata": {
  "kernelspec": {
   "display_name": "Python 2",
   "language": "python",
   "name": "python2"
  },
  "language_info": {
   "codemirror_mode": {
    "name": "ipython",
    "version": 2
   },
   "file_extension": ".py",
   "mimetype": "text/x-python",
   "name": "python",
   "nbconvert_exporter": "python",
   "pygments_lexer": "ipython2",
   "version": "2.7.13"
  }
 },
 "nbformat": 4,
 "nbformat_minor": 2
}
